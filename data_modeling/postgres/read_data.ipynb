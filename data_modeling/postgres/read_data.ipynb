{
 "cells": [
  {
   "cell_type": "code",
   "execution_count": null,
   "metadata": {},
   "outputs": [],
   "source": [
    "import json\n",
    "import pandas as pd\n",
    "\n",
    "df = pd.read_json('data/log_data/2018/11/2018-11-01-events.json', lines=True)\n",
    "df"
   ]
  },
  {
   "cell_type": "code",
   "execution_count": null,
   "metadata": {},
   "outputs": [],
   "source": [
    "import json\n",
    "import pandas as pd\n",
    "\n",
    "df = pd.read_json('data/song_data/A/A/A/TRAAAAW128F429D538.json', lines=True)\n",
    "df"
   ]
  },
  {
   "cell_type": "code",
   "execution_count": null,
   "metadata": {},
   "outputs": [],
   "source": [
    "import os\n",
    "os.getcwd()"
   ]
  },
  {
   "cell_type": "code",
   "execution_count": null,
   "metadata": {},
   "outputs": [],
   "source": [
    "import psycopg2\n",
    "conn = psycopg2.connect(\"host=127.0.0.1 dbname=sparkifydb user=student password=student\")\n",
    "cur = conn.cursor()\n"
   ]
  },
  {
   "cell_type": "code",
   "execution_count": null,
   "metadata": {},
   "outputs": [],
   "source": [
    "cur.execute(\"\"\"\n",
    "    CREATE TABLE IF NOT EXISTS users(\n",
    "        user_id int PRIMARY KEY NOT NULL,\n",
    "        first_name varchar,\n",
    "        last_name varchar,\n",
    "        gender varchar,\n",
    "        level varchar\n",
    "    );\n",
    "    CREATE TABLE IF NOT EXISTS artists(\n",
    "        artist_id varchar PRIMARY KEY,\n",
    "        name varchar,\n",
    "        location varchar,\n",
    "        latitude double precision,\n",
    "        longitude double precision\n",
    "    );\n",
    "    CREATE TABLE IF NOT EXISTS time(\n",
    "        start_time timestamp PRIMARY KEY,\n",
    "        hour int,\n",
    "        day int,\n",
    "        week int,\n",
    "        month int,\n",
    "        year int,\n",
    "        weekday varchar\n",
    "    );\n",
    "    CREATE TABLE IF NOT EXISTS songs(\n",
    "        song_id varchar PRIMARY KEY NOT NULL,\n",
    "        title varchar,\n",
    "        artist_id varchar REFERENCES artists(artist_id),\n",
    "        year int,\n",
    "        duration double precision\n",
    "    );\n",
    "    CREATE TABLE IF NOT EXISTS songplays(\n",
    "        songplay_id varchar PRIMARY KEY NOT NULL,\n",
    "        start_time timestamp,\n",
    "        user_id int REFERENCES users(user_id),\n",
    "        level varchar,\n",
    "        song_id varchar REFERENCES songs(song_id),\n",
    "        artist_id varchar REFERENCES artists(artist_id),\n",
    "        session_id int,\n",
    "        location varchar,\n",
    "        user_agent varchar\n",
    "    )\n",
    "    \n",
    "    \n",
    "\"\"\")"
   ]
  },
  {
   "cell_type": "code",
   "execution_count": null,
   "metadata": {},
   "outputs": [],
   "source": [
    "cur.close()"
   ]
  }
 ],
 "metadata": {
  "kernelspec": {
   "display_name": "Python 3",
   "language": "python",
   "name": "python3"
  },
  "language_info": {
   "codemirror_mode": {
    "name": "ipython",
    "version": 3
   },
   "file_extension": ".py",
   "mimetype": "text/x-python",
   "name": "python",
   "nbconvert_exporter": "python",
   "pygments_lexer": "ipython3",
   "version": "3.6.9"
  }
 },
 "nbformat": 4,
 "nbformat_minor": 4
}
